{
 "cells": [
  {
   "cell_type": "code",
   "execution_count": null,
   "metadata": {},
   "outputs": [],
   "source": [
    "import pymongo\n",
    "import pprint\n",
    "import matplotlib.pyplot as plt\n",
    "import yaml"
   ]
  },
  {
   "cell_type": "markdown",
   "metadata": {},
   "source": [
    "# connect to db\n",
    "connect to mongo db and get cursor to best x results"
   ]
  },
  {
   "cell_type": "code",
   "execution_count": null,
   "metadata": {},
   "outputs": [],
   "source": [
    "experiment = '2018-05-03-07-56-12'\n",
    "result_count = 100\n",
    "\n",
    "client = pymongo.MongoClient('localhost', 1234)\n",
    "db = client[experiment]\n",
    "jobs = db['jobs']\n",
    "cursor = jobs.find({ \"result.status\": \"ok\" }, limit=result_count).sort( \"result.loss\", pymongo.ASCENDING )"
   ]
  },
  {
   "cell_type": "markdown",
   "metadata": {},
   "source": [
    "# save to list\n",
    "save data in lists"
   ]
  },
  {
   "cell_type": "code",
   "execution_count": null,
   "metadata": {},
   "outputs": [],
   "source": [
    "b = list()\n",
    "d = list()\n",
    "loss = list()\n",
    "log_path = list()\n",
    "\n",
    "for job in cursor:\n",
    "    b.append(job['result']['params']['b'])\n",
    "    d.append(job['result']['params']['d'])\n",
    "    loss.append(job['result']['loss'])\n",
    "    log_path.append(job['result']['log_path'])"
   ]
  },
  {
   "cell_type": "markdown",
   "metadata": {},
   "source": [
    "# fancy visualization"
   ]
  },
  {
   "cell_type": "code",
   "execution_count": null,
   "metadata": {},
   "outputs": [],
   "source": [
    "# b\n",
    "plt.scatter(b, loss)\n",
    "plt.xlabel('b_actual')\n",
    "plt.ylabel('total loss')\n",
    "plt.axis([min(b), max(b), min(loss), max(loss)])\n",
    "plt.savefig(\"result_b.svg\", format=\"svg\")\n",
    "plt.show()"
   ]
  },
  {
   "cell_type": "code",
   "execution_count": null,
   "metadata": {},
   "outputs": [],
   "source": [
    "# d\n",
    "plt.scatter(d, loss)\n",
    "plt.xlabel('err_d')\n",
    "plt.ylabel('total loss')\n",
    "plt.axis([min(d), max(d), min(loss), max(loss)])\n",
    "plt.savefig(\"result_d.svg\", format=\"svg\")\n",
    "plt.show()"
   ]
  },
  {
   "cell_type": "code",
   "execution_count": null,
   "metadata": {},
   "outputs": [],
   "source": [
    "# loss only\n",
    "plt.plot(loss)\n",
    "plt.xlabel('trial')\n",
    "plt.ylabel('loss')\n",
    "plt.show()"
   ]
  },
  {
   "cell_type": "code",
   "execution_count": null,
   "metadata": {},
   "outputs": [],
   "source": [
    "print(log_path)"
   ]
  },
  {
   "cell_type": "markdown",
   "metadata": {},
   "source": [
    "# even more fancy Visualization"
   ]
  },
  {
   "cell_type": "code",
   "execution_count": null,
   "metadata": {},
   "outputs": [],
   "source": [
    "import yaml\n",
    "import os\n",
    "import csv\n",
    "import math\n",
    "import matplotlib.pyplot as plt\n",
    "from collections import deque"
   ]
  },
  {
   "cell_type": "code",
   "execution_count": null,
   "metadata": {},
   "outputs": [],
   "source": [
    "def read_last_xy_from_files(folder):\n",
    "    x_list = list()\n",
    "    y_list = list()\n",
    "    \n",
    "    # loop over all files in folder\n",
    "    for filename in os.listdir(folder):\n",
    "        if filename.endswith(\".csv\"):\n",
    "            # open csv file\n",
    "            with open(folder + filename, 'r') as f:\n",
    "                try:\n",
    "                    # get last values\n",
    "                    lastrow = deque(csv.reader(f), 1)[0]\n",
    "                    x = float(lastrow[1])         \n",
    "                    y = float(lastrow[2])  \n",
    "                    \n",
    "                    # store in list\n",
    "                    x_list.append(-x) \n",
    "                    y_list.append(-y)\n",
    "\n",
    "                except IndexError:  # empty file\n",
    "                    lastrow = None\n",
    "    return x_list, y_list"
   ]
  },
  {
   "cell_type": "code",
   "execution_count": null,
   "metadata": {},
   "outputs": [],
   "source": [
    "# CW\n",
    "err_x_CW, err_y_CW = read_last_xy_from_files(\"./data_front_022/CW/\")\n",
    "\n",
    "# CCW\n",
    "err_x_CCW, err_y_CCW = read_last_xy_from_files(\"./data_front_022/CCW/\")\n",
    "\n",
    "# CW COG\n",
    "x_cg_CW = sum(err_x_CW)/len(err_x_CW)\n",
    "y_cg_CW = sum(err_y_CW)/len(err_y_CW)\n",
    "\n",
    "# CCW COG\n",
    "x_cg_CCW = sum(err_x_CCW)/len(err_x_CCW)\n",
    "y_cg_CCW = sum(err_y_CCW)/len(err_y_CCW)"
   ]
  },
  {
   "cell_type": "code",
   "execution_count": null,
   "metadata": {},
   "outputs": [],
   "source": [
    "# corrected CW\n",
    "err_x_CW_corr, err_y_CW_corr = read_last_xy_from_files(\"./data_result/CW/\")\n",
    "\n",
    "# corrected CCW\n",
    "err_x_CCW_corr, err_y_CCW_corr = read_last_xy_from_files(\"./data_result/CCW/\")\n",
    "\n",
    "# CW COG corrected\n",
    "x_cg_CW_corr = sum(err_x_CW_corr)/len(err_x_CW_corr)\n",
    "y_cg_CW_corr = sum(err_y_CW_corr)/len(err_y_CW_corr)\n",
    "\n",
    "# CCW COG corrected\n",
    "x_cg_CCW_corr = sum(err_x_CCW_corr)/len(err_x_CCW_corr)\n",
    "y_cg_CCW_corr = sum(err_y_CCW_corr)/len(err_y_CCW_corr)"
   ]
  },
  {
   "cell_type": "code",
   "execution_count": null,
   "metadata": {},
   "outputs": [],
   "source": [
    "%matplotlib inline\n",
    "fig, ax = plt.subplots()\n",
    "\n",
    "# negate elements\n",
    "err_x_CCW = [-x for x in err_x_CCW]\n",
    "err_y_CCW = [-x for x in err_y_CCW]\n",
    "err_x_CW = [-x for x in err_x_CW]\n",
    "err_y_CW = [-x for x in err_y_CW]\n",
    "x_cg_CW = - x_cg_CW\n",
    "x_cg_CCW = - x_cg_CCW\n",
    "y_cg_CW = - y_cg_CW\n",
    "y_cg_CCW = - y_cg_CCW\n",
    "\n",
    "# intermediate results\n",
    "ax.scatter(err_x_CCW, err_y_CCW, color=\"green\", label=\"CCW\")\n",
    "ax.scatter(err_x_CW, err_y_CW, color=\"blue\", label=\"CW\")\n",
    "ax.scatter([x_cg_CW, x_cg_CCW], [y_cg_CW, y_cg_CCW], color=\"red\", marker=\"+\", label=\"COG\")\n",
    "\n",
    "# negate elements\n",
    "err_x_CCW_corr = [-x for x in err_x_CCW_corr]\n",
    "err_y_CCW_corr = [-x for x in err_y_CCW_corr]\n",
    "err_x_CW_corr = [-x for x in err_x_CW_corr]\n",
    "err_y_CW_corr = [-x for x in err_y_CW_corr]\n",
    "x_cg_CW_corr = - x_cg_CW_corr\n",
    "x_cg_CCW_corr = - x_cg_CCW_corr\n",
    "y_cg_CW_corr = - y_cg_CW_corr\n",
    "y_cg_CCW_corr = - y_cg_CCW_corr\n",
    "\n",
    "# corrected results\n",
    "ax.scatter(err_x_CCW_corr, err_y_CCW_corr, color=\"goldenrod\", marker=\"s\", label=\"CCW corrected\")\n",
    "ax.scatter(err_x_CW_corr, err_y_CW_corr, color=\"sienna\", marker=\"s\", label=\"CW corrected\")\n",
    "ax.scatter([x_cg_CW_corr, x_cg_CCW_corr], [y_cg_CW_corr, y_cg_CCW_corr], color=\"red\", marker=\"x\", label=\"COG corrected\")\n",
    "\n",
    "\n",
    "# format everything\n",
    "ax.axis('equal')\n",
    "ax.set_xlabel('x_err in m')\n",
    "ax.set_ylabel('y_err in m')\n",
    "\n",
    "# set the x-spine (see below for more info on `set_position`)\n",
    "ax.spines['left'].set_position('zero')\n",
    "\n",
    "# turn off the right spine/ticks\n",
    "ax.spines['right'].set_color('none')\n",
    "ax.yaxis.tick_left()\n",
    "\n",
    "# set the y-spine\n",
    "ax.spines['bottom'].set_position('zero')\n",
    "\n",
    "# turn off the top spine/ticks\n",
    "ax.spines['top'].set_color('none')\n",
    "ax.xaxis.tick_bottom()\n",
    "\n",
    "# legend\n",
    "fig.legend()\n",
    "\n",
    "fig.savefig(\"result.svg\", format=\"svg\")\n",
    "\n",
    "plt.show()"
   ]
  },
  {
   "cell_type": "code",
   "execution_count": null,
   "metadata": {},
   "outputs": [],
   "source": []
  }
 ],
 "metadata": {
  "kernelspec": {
   "display_name": "Python 3",
   "language": "python",
   "name": "python3"
  },
  "language_info": {
   "codemirror_mode": {
    "name": "ipython",
    "version": 3
   },
   "file_extension": ".py",
   "mimetype": "text/x-python",
   "name": "python",
   "nbconvert_exporter": "python",
   "pygments_lexer": "ipython3",
   "version": "3.5.2"
  }
 },
 "nbformat": 4,
 "nbformat_minor": 2
}
