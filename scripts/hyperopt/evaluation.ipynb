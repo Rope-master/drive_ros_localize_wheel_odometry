{
 "cells": [
  {
   "cell_type": "code",
   "execution_count": null,
   "metadata": {},
   "outputs": [],
   "source": [
    "import pymongo\n",
    "import pprint\n",
    "import matplotlib.pyplot as plt\n",
    "import yaml"
   ]
  },
  {
   "cell_type": "markdown",
   "metadata": {},
   "source": [
    "# connect to db\n",
    "connect to mongo db and get cursor to best x results"
   ]
  },
  {
   "cell_type": "code",
   "execution_count": null,
   "metadata": {},
   "outputs": [],
   "source": [
    "experiment = '2018-05-02-08-06-56'\n",
    "result_count = 100\n",
    "\n",
    "client = pymongo.MongoClient('localhost', 1234)\n",
    "db = client[experiment]\n",
    "jobs = db['jobs']\n",
    "cursor = jobs.find({ \"result.status\": \"ok\" }, limit=result_count).sort( \"result.loss\", pymongo.ASCENDING )"
   ]
  },
  {
   "cell_type": "markdown",
   "metadata": {},
   "source": [
    "# save to list\n",
    "save data in lists"
   ]
  },
  {
   "cell_type": "code",
   "execution_count": null,
   "metadata": {},
   "outputs": [],
   "source": [
    "b = list()\n",
    "d = list()\n",
    "loss = list()\n",
    "log_path = list()\n",
    "\n",
    "for job in cursor:\n",
    "    b.append(job['result']['params']['b'])\n",
    "    d.append(job['result']['params']['d'])\n",
    "    loss.append(job['result']['loss'])\n",
    "    log_path.append(job['result']['log_path'])"
   ]
  },
  {
   "cell_type": "markdown",
   "metadata": {},
   "source": [
    "# fancy visualization"
   ]
  },
  {
   "cell_type": "code",
   "execution_count": null,
   "metadata": {},
   "outputs": [],
   "source": [
    "# b\n",
    "plt.scatter(b, loss)\n",
    "plt.xlabel('b')\n",
    "plt.ylabel('loss')\n",
    "plt.axis([min(b), max(b), min(loss), max(loss)])\n",
    "plt.show()"
   ]
  },
  {
   "cell_type": "code",
   "execution_count": null,
   "metadata": {},
   "outputs": [],
   "source": [
    "# d\n",
    "plt.scatter(d, loss)\n",
    "plt.xlabel('d')\n",
    "plt.ylabel('loss')\n",
    "plt.axis([min(d), max(d), min(loss), max(loss)])\n",
    "plt.show()"
   ]
  },
  {
   "cell_type": "code",
   "execution_count": null,
   "metadata": {},
   "outputs": [],
   "source": [
    "# loss only\n",
    "plt.plot(loss)\n",
    "plt.xlabel('trial')\n",
    "plt.ylabel('loss')\n",
    "plt.show()"
   ]
  },
  {
   "cell_type": "code",
   "execution_count": null,
   "metadata": {},
   "outputs": [],
   "source": [
    "print(log_path)"
   ]
  },
  {
   "cell_type": "code",
   "execution_count": null,
   "metadata": {},
   "outputs": [],
   "source": []
  },
  {
   "cell_type": "code",
   "execution_count": null,
   "metadata": {},
   "outputs": [],
   "source": []
  },
  {
   "cell_type": "code",
   "execution_count": null,
   "metadata": {},
   "outputs": [],
   "source": []
  }
 ],
 "metadata": {
  "kernelspec": {
   "display_name": "Python 3",
   "language": "python",
   "name": "python3"
  },
  "language_info": {
   "codemirror_mode": {
    "name": "ipython",
    "version": 3
   },
   "file_extension": ".py",
   "mimetype": "text/x-python",
   "name": "python",
   "nbconvert_exporter": "python",
   "pygments_lexer": "ipython3",
   "version": "3.5.2"
  }
 },
 "nbformat": 4,
 "nbformat_minor": 2
}
