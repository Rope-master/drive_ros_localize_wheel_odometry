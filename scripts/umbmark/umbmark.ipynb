{
 "cells": [
  {
   "cell_type": "code",
   "execution_count": null,
   "metadata": {},
   "outputs": [],
   "source": [
    "import yaml\n",
    "import os\n",
    "import csv\n",
    "import math\n",
    "import matplotlib.pyplot as plt\n",
    "from collections import deque\n",
    "\n",
    "data_folder_CW = \"./data_front_022/CW/\"\n",
    "data_folder_CCW = \"./data_front_022/CCW/\"\n",
    "\n",
    "# errorlist for all trials\n",
    "err_x_CW = list()\n",
    "err_y_CW = list()\n",
    "\n",
    "err_x_CCW = list()\n",
    "err_y_CCW = list()"
   ]
  },
  {
   "cell_type": "code",
   "execution_count": null,
   "metadata": {},
   "outputs": [],
   "source": [
    "# CW\n",
    "for filename in os.listdir(data_folder_CW):\n",
    "    if filename.endswith(\".csv\"):\n",
    "        # open csv file\n",
    "        with open(data_folder_CW + filename, 'r') as f:\n",
    "            try:\n",
    "                lastrow = deque(csv.reader(f), 1)[0]\n",
    "                x = float(lastrow[1])            # x position at the end\n",
    "                y = float(lastrow[2])            # y position at the end\n",
    "                \n",
    "                err_x_CW.append(-x) \n",
    "                err_y_CW.append(-y)\n",
    "                \n",
    "            except IndexError:  # empty file\n",
    "                lastrow = None"
   ]
  },
  {
   "cell_type": "code",
   "execution_count": null,
   "metadata": {},
   "outputs": [],
   "source": [
    "# CCW\n",
    "for filename in os.listdir(data_folder_CCW):\n",
    "    if filename.endswith(\".csv\"):\n",
    "        # open csv file\n",
    "        with open(data_folder_CCW + filename, 'r') as f:\n",
    "            try:\n",
    "                lastrow = deque(csv.reader(f), 1)[0]\n",
    "                x = float(lastrow[1])            # x position at the end\n",
    "                y = float(lastrow[2])            # y position at the end\n",
    "                \n",
    "                err_x_CCW.append(-x)\n",
    "                err_y_CCW.append(-y)\n",
    "                \n",
    "            except IndexError:  # empty file\n",
    "                lastrow = None"
   ]
  },
  {
   "cell_type": "code",
   "execution_count": null,
   "metadata": {},
   "outputs": [],
   "source": [
    "x_cg_CW = sum(err_x_CW)/len(err_x_CW)\n",
    "y_cg_CW = sum(err_y_CW)/len(err_y_CW)\n",
    "\n",
    "x_cg_CCW = sum(err_x_CCW)/len(err_x_CCW)\n",
    "y_cg_CCW = sum(err_y_CCW)/len(err_y_CCW)"
   ]
  },
  {
   "cell_type": "code",
   "execution_count": null,
   "metadata": {},
   "outputs": [],
   "source": [
    "plt.scatter(err_x_CCW, err_y_CCW, color=\"green\")\n",
    "plt.scatter(err_x_CW, err_y_CW, color=\"blue\")\n",
    "plt.scatter([x_cg_CW, x_cg_CCW], [y_cg_CW, y_cg_CCW], color=\"red\")\n",
    "plt.axis('equal')\n",
    "plt.show()"
   ]
  },
  {
   "cell_type": "code",
   "execution_count": null,
   "metadata": {},
   "outputs": [],
   "source": [
    "# length of square\n",
    "L = 13.03\n",
    "\n",
    "# used trackwidth\n",
    "b = 0.22\n",
    "\n",
    "# calculate E_b (flipped sign because of different coordinate system)\n",
    "alpha_1 = (x_cg_CW + x_cg_CCW)/(-4.0*L)\n",
    "alpha_2 = (y_cg_CW - y_cg_CCW)/(-4.0*L)\n",
    "alpha =  (alpha_1 + alpha_2)/2.0\n",
    "E_b = (math.pi/2)/(math.pi/2 - alpha) \n",
    "\n",
    "# calculate E_d (flipped sign because of different coordinate system)\n",
    "beta_1 = (x_cg_CW - x_cg_CCW)/(-4.0*L)\n",
    "beta_2 = (y_cg_CW + y_cg_CCW)/(-4.0*L)\n",
    "beta = (beta_1 + beta_2)/2.0\n",
    "R = (L/2.0)/math.sin(beta/2.0)\n",
    "E_d = (R + b/2.0)/(R - b/2.0)\n",
    "\n",
    "# print\n",
    "print(\"Error E_d: \", E_d)\n",
    "print(\"Error E_b: \", E_b)\n",
    "print(\"Actual track width b_actual: \", E_b * b)"
   ]
  },
  {
   "cell_type": "code",
   "execution_count": null,
   "metadata": {},
   "outputs": [],
   "source": []
  },
  {
   "cell_type": "code",
   "execution_count": null,
   "metadata": {},
   "outputs": [],
   "source": []
  },
  {
   "cell_type": "code",
   "execution_count": null,
   "metadata": {},
   "outputs": [],
   "source": []
  }
 ],
 "metadata": {
  "kernelspec": {
   "display_name": "Python 3",
   "language": "python",
   "name": "python3"
  },
  "language_info": {
   "codemirror_mode": {
    "name": "ipython",
    "version": 3
   },
   "file_extension": ".py",
   "mimetype": "text/x-python",
   "name": "python",
   "nbconvert_exporter": "python",
   "pygments_lexer": "ipython3",
   "version": "3.5.2"
  }
 },
 "nbformat": 4,
 "nbformat_minor": 2
}
